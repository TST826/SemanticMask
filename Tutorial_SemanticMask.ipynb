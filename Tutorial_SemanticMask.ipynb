{
 "cells": [
  {
   "cell_type": "markdown",
   "id": "a0ff7816",
   "metadata": {},
   "source": [
    "# SemanticMask: A Contrastive View Design for Anomaly Detection in Tabular Data"
   ]
  },
  {
   "cell_type": "markdown",
   "id": "1baf8bba",
   "metadata": {},
   "source": [
    "This notebook describes the user-guide of SemanticMask and its variants using saheart dataset."
   ]
  },
  {
   "cell_type": "markdown",
   "id": "30668852",
   "metadata": {},
   "source": [
    "### Necessary packages and functions call"
   ]
  },
  {
   "cell_type": "code",
   "execution_count": 1,
   "id": "a427275e",
   "metadata": {},
   "outputs": [],
   "source": [
    "import numpy as np\n",
    "import torch\n",
    "import torch.optim as optim\n",
    "from data_loader import load_saheart\n",
    "from train import ContrastiveEncoder,train_dnn\n",
    "#from train_position import ContrastiveEncoder_position,train_encoder_position\n",
    "from semanticmask_augmentation import MyDataset,MyDataset_position,MyDataset_description,MyDataset_test\n",
    "import random,os\n",
    "from evaluate import evaluate\n",
    "from evaluate_position import evaluate_position\n",
    "\n"
   ]
  },
  {
   "cell_type": "markdown",
   "id": "bf04c316",
   "metadata": {},
   "source": [
    "### Load data"
   ]
  },
  {
   "cell_type": "markdown",
   "id": "d1a8b87b",
   "metadata": {},
   "source": [
    "Load original saheart dataset and preprocess the loaded data."
   ]
  },
  {
   "cell_type": "code",
   "execution_count": 2,
   "id": "d8fe16b3",
   "metadata": {},
   "outputs": [
    {
     "name": "stdout",
     "output_type": "stream",
     "text": [
      "The shape of data: (462, 9)\n",
      "The shape of normal data: (302, 9)\n",
      "The shape of anomalous data: (160, 9)\n"
     ]
    }
   ],
   "source": [
    "x_train,y_train,x_valid,y_valid,x_test,y_test = load_saheart()\n",
    "#np.save('data/X_train_saheart.npy', x_train)  \n",
    "#np.save('data/y_train_saheart.npy', y_train)    all zeros \n",
    "#np.save('data/X_valid_saheart.npy', x_valid)    \n",
    "#np.save('data/y_valid_saheart.npy', y_valid)    all zeros \n",
    "#np.save('data/X_test_saheart.npy', x_test)   \n",
    "#np.save('data/y_test_saheart.npy', y_test)  \n"
   ]
  },
  {
   "cell_type": "code",
   "execution_count": 3,
   "id": "45ed1f77",
   "metadata": {},
   "outputs": [],
   "source": [
    "#The different permutations and partitions of normal data in the load_saheart() function can lead to minor fluctuations in the results. \n",
    "#To ensure better reproducibility, we provide the preprocessed datasets used in our paper.\n",
    "X_train = np.load('data/X_train_saheart.npy')   \n",
    "y_train = np.load('data/y_train_saheart.npy')  \n",
    "X_valid = np.load('data/X_valid_saheart.npy')    \n",
    "y_valid = np.load('data/y_valid_saheart.npy')\n",
    "X_test = np.load('data/X_test_saheart.npy')   \n",
    "y_test = np.load('data/y_test_saheart.npy')"
   ]
  },
  {
   "cell_type": "markdown",
   "id": "333e36de",
   "metadata": {},
   "source": [
    "### Data augmentation"
   ]
  },
  {
   "cell_type": "code",
   "execution_count": 4,
   "id": "ddfc9482",
   "metadata": {},
   "outputs": [],
   "source": [
    " #f_label: The feature grouping results obtained by applying sentence-BERT and k-means clustering based on column names can be found in group.ipynb.\n",
    "f_label = np.array([1, 0, 1, 0, 1, 0, 0, 0, 0])  \n",
    "data_train__SemanticMask = MyDataset(X_train,y_train,f_label)\n",
    "data_train = MyDataset_test(X_train, y_train)\n",
    "data_valid = MyDataset_test(X_valid, y_valid)\n",
    "data_test = MyDataset_test(X_test, y_test)\n",
    "trainloader_SemanticMask = torch.utils.data.DataLoader(data_train__SemanticMask,batch_size=151)   \n",
    "trainloader = torch.utils.data.DataLoader(dataset=data_train,batch_size=151)\n",
    "validloader = torch.utils.data.DataLoader(dataset=data_valid,batch_size=75)\n",
    "testloader = torch.utils.data.DataLoader(dataset=data_test,batch_size=236)\n",
    "\n",
    "\n",
    "data_train_position = MyDataset_position(X_train,y_train,f_label)\n",
    "trainloader_position = torch.utils.data.DataLoader(data_train_position,batch_size=151)  \n",
    "\n",
    "# In this dataset, the partition results of SemanticMask and SemanticMask+description is same. \n",
    "f_label = np.array([1, 0, 1, 0, 1, 0, 0, 0, 0])\n",
    "data_train_description = MyDataset_description(X_train,y_train,f_label)\n",
    "trainloader_description = torch.utils.data.DataLoader(data_train_description,batch_size=151) "
   ]
  },
  {
   "cell_type": "markdown",
   "id": "da31e84b",
   "metadata": {},
   "source": [
    "**Hyperparameter setting**"
   ]
  },
  {
   "cell_type": "code",
   "execution_count": 5,
   "id": "52e25fdf",
   "metadata": {},
   "outputs": [],
   "source": [
    "temperature = 0.01\n",
    "epochs = 1000"
   ]
  },
  {
   "cell_type": "markdown",
   "id": "98b33c89",
   "metadata": {},
   "source": [
    "### Train the SemanticMask"
   ]
  },
  {
   "cell_type": "code",
   "execution_count": 6,
   "id": "86fc8bd0",
   "metadata": {},
   "outputs": [
    {
     "name": "stderr",
     "output_type": "stream",
     "text": [
      "100%|█████████████████████████████████████████████████████████████████████████████| 1000/1000 [00:06<00:00, 152.63it/s]\n"
     ]
    },
    {
     "name": "stdout",
     "output_type": "stream",
     "text": [
      "[[ 63  13]\n",
      " [100  60]]\n",
      "AUCROC: 0.7045230263157894\n",
      "0.7045230263157894\n"
     ]
    }
   ],
   "source": [
    "\n",
    "net = ContrastiveEncoder().cuda()\n",
    "optimizer = optim.Adam(net.parameters(), lr = 0.001)\n",
    "net,training_loss = train_dnn(net,temperature,epochs,optimizer,trainloader_SemanticMask)\n",
    "AUC = []\n",
    "\n",
    "auroc =evaluate(net,trainloader,validloader,testloader)\n",
    "print(auroc)  "
   ]
  },
  {
   "cell_type": "markdown",
   "id": "3d4dd100",
   "metadata": {},
   "source": [
    "**Report prediction performances of our pretrained model**"
   ]
  },
  {
   "cell_type": "code",
   "execution_count": 7,
   "id": "8608b499",
   "metadata": {},
   "outputs": [
    {
     "name": "stdout",
     "output_type": "stream",
     "text": [
      "[[65 11]\n",
      " [92 68]]\n",
      "AUCROC: 0.7029605263157894\n",
      "[[ 66  10]\n",
      " [100  60]]\n",
      "AUCROC: 0.717516447368421\n",
      "[[68  8]\n",
      " [99 61]]\n",
      "AUCROC: 0.7007401315789473\n",
      "[[64 12]\n",
      " [91 69]]\n",
      "AUCROC: 0.6872532894736842\n",
      "[[67  9]\n",
      " [94 66]]\n",
      "AUCROC: 0.7100328947368421\n",
      "[0.70296053 0.71751645 0.70074013 0.68725329 0.71003289]\n",
      "The average value of AUCROC: 0.7037006578947368\n",
      "The standard deviation of AUCROC: 0.010107439844037188\n"
     ]
    }
   ],
   "source": [
    "AUC = []\n",
    "for i in range(5):\n",
    "    net = ContrastiveEncoder().cuda()\n",
    "    net = torch.load(\"model/SemanticMask_\"+str(i)+\".pkl\")\n",
    "    auroc =evaluate(net,trainloader,validloader,testloader)\n",
    "    AUC.append(auroc)\n",
    "AUC= np.array(AUC)\n",
    "print(AUC)\n",
    "print(\"The average value of AUCROC:\", np.mean(AUC))\n",
    "print(\"The standard deviation of AUCROC:\",np.std(AUC))  "
   ]
  },
  {
   "cell_type": "markdown",
   "id": "87a30a2c",
   "metadata": {},
   "source": [
    "### Train the SemanticMask + position"
   ]
  },
  {
   "cell_type": "code",
   "execution_count": 8,
   "id": "deff1ef4",
   "metadata": {},
   "outputs": [
    {
     "name": "stderr",
     "output_type": "stream",
     "text": [
      "100%|██████████████████████████████████████████████████████████████████████████████| 1000/1000 [00:16<00:00, 59.28it/s]\n"
     ]
    },
    {
     "name": "stdout",
     "output_type": "stream",
     "text": [
      "[[ 68   8]\n",
      " [102  58]]\n",
      "AUCROC: 0.7056743421052631\n",
      "0.7056743421052631\n"
     ]
    }
   ],
   "source": [
    "from train_position import ContrastiveEncoder,train_encoder_position\n",
    "net = ContrastiveEncoder().cuda()\n",
    "optimizer = optim.Adam(net.parameters(), lr = 0.001)\n",
    "net,training_loss = train_encoder_position(net,temperature,epochs,optimizer,trainloader_position)\n",
    "auroc =evaluate_position(net,trainloader,validloader,testloader)\n",
    "print(auroc)  "
   ]
  },
  {
   "cell_type": "markdown",
   "id": "bd043ae8",
   "metadata": {},
   "source": [
    "**Report prediction performances of our pretrained model**"
   ]
  },
  {
   "cell_type": "code",
   "execution_count": 9,
   "id": "dca166d4",
   "metadata": {},
   "outputs": [
    {
     "name": "stdout",
     "output_type": "stream",
     "text": [
      "[[67  9]\n",
      " [90 70]]\n",
      "AUCROC: 0.7412006578947369\n",
      "[[67  9]\n",
      " [96 64]]\n",
      "AUCROC: 0.6863486842105263\n",
      "[[63 13]\n",
      " [86 74]]\n",
      "AUCROC: 0.7053453947368421\n",
      "[[ 63  13]\n",
      " [100  60]]\n",
      "AUCROC: 0.6828947368421053\n",
      "[[ 66  10]\n",
      " [102  58]]\n",
      "AUCROC: 0.7114309210526315\n",
      "[0.74120066 0.68634868 0.70534539 0.68289474 0.71143092]\n",
      "0.7054440789473684\n",
      "0.02091646186391073\n"
     ]
    }
   ],
   "source": [
    "from train_position import ContrastiveEncoder,train_encoder_position\n",
    "AUC = []\n",
    "for i in range(5):\n",
    "    net = torch.load(\"model/position_\"+str(i)+\".pkl\")\n",
    "    auroc =evaluate_position(net,trainloader,validloader,testloader)\n",
    "    AUC.append(auroc)\n",
    "AUC= np.array(AUC)\n",
    "print(AUC)\n",
    "print(np.mean(AUC))\n",
    "print(np.std(AUC))  "
   ]
  },
  {
   "cell_type": "markdown",
   "id": "f35ebc6c",
   "metadata": {},
   "source": [
    "### Train the SemanticMask + description"
   ]
  },
  {
   "cell_type": "code",
   "execution_count": 10,
   "id": "3342c3c5",
   "metadata": {},
   "outputs": [
    {
     "name": "stderr",
     "output_type": "stream",
     "text": [
      "100%|█████████████████████████████████████████████████████████████████████████████| 1000/1000 [00:08<00:00, 117.31it/s]\n"
     ]
    },
    {
     "name": "stdout",
     "output_type": "stream",
     "text": [
      "[[64 12]\n",
      " [81 79]]\n",
      "AUCROC: 0.7168585526315789\n",
      "0.7168585526315789\n"
     ]
    }
   ],
   "source": [
    "from train import ContrastiveEncoder,train_dnn\n",
    "\n",
    "net = ContrastiveEncoder().cuda()\n",
    "optimizer = optim.Adam(net.parameters(), lr = 0.001)\n",
    "Encoder,training_loss = train_dnn(net,temperature,epochs,optimizer,trainloader_description)\n",
    "auroc =evaluate(net,trainloader,validloader,testloader)\n",
    "print(auroc)  \n",
    "    \n",
    "    "
   ]
  },
  {
   "cell_type": "markdown",
   "id": "42f5adc0",
   "metadata": {},
   "source": [
    "**Report prediction performances of our pretrained model**"
   ]
  },
  {
   "cell_type": "code",
   "execution_count": 11,
   "id": "1b0494ec",
   "metadata": {},
   "outputs": [
    {
     "name": "stdout",
     "output_type": "stream",
     "text": [
      "[[63 13]\n",
      " [86 74]]\n",
      "AUCROC: 0.7111019736842106\n",
      "[[68  8]\n",
      " [92 68]]\n",
      "AUCROC: 0.7615131578947368\n",
      "[[67  9]\n",
      " [99 61]]\n",
      "AUCROC: 0.7041940789473684\n",
      "[[60 16]\n",
      " [86 74]]\n",
      "AUCROC: 0.7092927631578949\n",
      "[[63 13]\n",
      " [95 65]]\n",
      "AUCROC: 0.7038651315789474\n",
      "[0.71110197 0.76151316 0.70419408 0.70929276 0.70386513]\n",
      "0.7179934210526315\n",
      "0.021941701827476186\n"
     ]
    }
   ],
   "source": [
    "from train import ContrastiveEncoder,train_dnn\n",
    "AUC = []\n",
    "for i in range(5):\n",
    "    net = torch.load(\"model/description_\"+str(i)+\".pkl\")\n",
    "    auroc =evaluate(net,trainloader,validloader,testloader)\n",
    "    AUC.append(auroc)\n",
    "AUC= np.array(AUC)\n",
    "print(AUC)\n",
    "print(np.mean(AUC))\n",
    "print(np.std(AUC))  "
   ]
  },
  {
   "cell_type": "code",
   "execution_count": null,
   "id": "5a7e9b3d",
   "metadata": {},
   "outputs": [],
   "source": []
  }
 ],
 "metadata": {
  "kernelspec": {
   "display_name": "Python [conda env:pytorch]",
   "language": "python",
   "name": "conda-env-pytorch-py"
  },
  "language_info": {
   "codemirror_mode": {
    "name": "ipython",
    "version": 3
   },
   "file_extension": ".py",
   "mimetype": "text/x-python",
   "name": "python",
   "nbconvert_exporter": "python",
   "pygments_lexer": "ipython3",
   "version": "3.9.13"
  }
 },
 "nbformat": 4,
 "nbformat_minor": 5
}
